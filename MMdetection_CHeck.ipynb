{
 "cells": [
  {
   "cell_type": "markdown",
   "id": "01e039f0-0540-4081-be76-17dff7c5e24a",
   "metadata": {},
   "source": [
    "# NvidiaドライバとCUDA Matching　check"
   ]
  },
  {
   "cell_type": "code",
   "execution_count": null,
   "id": "756007c9-9c4e-4688-8dff-b247fd911c71",
   "metadata": {},
   "outputs": [],
   "source": [
    "import subprocess\n",
    "\n",
    "def check_nvidia_driver():\n",
    "    try:\n",
    "        output = subprocess.check_output([\"nvidia-smi\"], stderr=subprocess.STDOUT, text=True)\n",
    "        # ここでNVIDIAドライババージョンを解析\n",
    "        print(\"NVIDIA driver is OK.\")\n",
    "        return True\n",
    "    except:\n",
    "        print(\"NVIDIA driver is NOT OK.\")\n",
    "        return False\n",
    "\n",
    "def check_cuda_version():\n",
    "    try:\n",
    "        output = subprocess.check_output([\"nvcc\", \"--version\"], stderr=subprocess.STDOUT, text=True)\n",
    "        # ここでCUDAバージョンを解析\n",
    "        print(\"CUDA version is OK.\")\n",
    "        return True\n",
    "    except:\n",
    "        print(\"CUDA version is NOT OK.\")\n",
    "        return False\n",
    "\n",
    "# 他の3つの診断関数をここに追加\n",
    "\n",
    "def main():\n",
    "    checks = [check_nvidia_driver, check_cuda_version]  # 他の診断関数を追加\n",
    "    all_passed = True\n",
    "    \n",
    "    for check in checks:\n",
    "        result = check()\n",
    "        if not result:\n",
    "            all_passed = False\n",
    "    \n",
    "    if all_passed:\n",
    "        print(\"All checks passed.\")\n",
    "    else:\n",
    "        print(\"Some checks failed.\")\n",
    "        print(\"Solution: ...\")  # 解決策を示す\n",
    "\n",
    "if __name__ == \"__main__\":\n",
    "    main()\n"
   ]
  }
 ],
 "metadata": {
  "kernelspec": {
   "display_name": "Python 3 (ipykernel)",
   "language": "python",
   "name": "python3"
  },
  "language_info": {
   "codemirror_mode": {
    "name": "ipython",
    "version": 3
   },
   "file_extension": ".py",
   "mimetype": "text/x-python",
   "name": "python",
   "nbconvert_exporter": "python",
   "pygments_lexer": "ipython3",
   "version": "3.7.16"
  }
 },
 "nbformat": 4,
 "nbformat_minor": 5
}
