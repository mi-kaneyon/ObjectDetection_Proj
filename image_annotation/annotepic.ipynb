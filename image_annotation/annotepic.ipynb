{
 "cells": [
  {
   "cell_type": "markdown",
   "id": "1a83b1ca-d562-4487-afe1-0ce605f6854d",
   "metadata": {},
   "source": [
    "# annotation image generator"
   ]
  },
  {
   "cell_type": "code",
   "execution_count": 3,
   "id": "984ef89d-d883-441a-b1dc-6770d821e4b6",
   "metadata": {},
   "outputs": [
    {
     "name": "stderr",
     "output_type": "stream",
     "text": [
      "C:\\Users\\Manyan\\anaconda3\\envs\\osac\\lib\\site-packages\\ipykernel_launcher.py:34: DeprecationWarning: ANTIALIAS is deprecated and will be removed in Pillow 10 (2023-07-01). Use LANCZOS or Resampling.LANCZOS instead.\n"
     ]
    }
   ],
   "source": [
    "import glob \n",
    "import os\n",
    "import numpy as np\n",
    "from PIL import Image, ImageOps\n",
    "\n",
    "def process_image_with_padding(input_path, output_folder, target_size=(512, 512), augment=True, padding_ratio=0.1):\n",
    "    # Create the output directory if it doesn't exist\n",
    "    if not os.path.exists(output_folder):\n",
    "        os.makedirs(output_folder)\n",
    "\n",
    "    # Load the image\n",
    "    img = Image.open(input_path).convert(\"RGBA\")\n",
    "    \n",
    "    # Remove the alpha channel (transparency)\n",
    "    data = np.array(img)\n",
    "    alpha_data = data[:,:,3]\n",
    "    non_transparent = alpha_data > 0\n",
    "    \n",
    "    # Crop the image to remove transparent areas\n",
    "    non_transparent_points = np.column_stack(np.where(non_transparent))\n",
    "    min_coords = non_transparent_points.min(axis=0)\n",
    "    max_coords = non_transparent_points.max(axis=0)\n",
    "    cropped_img = Image.fromarray(data[min_coords[0]:max_coords[0]+1, min_coords[1]:max_coords[1]+1, :])\n",
    "    \n",
    "    # Calculate padding\n",
    "    width, height = cropped_img.size\n",
    "    padding_width = int(width * padding_ratio)\n",
    "    padding_height = int(height * padding_ratio)\n",
    "    \n",
    "    # Add padding\n",
    "    padded_img = ImageOps.expand(cropped_img, (padding_width, padding_height, padding_width, padding_height), fill=(0, 0, 0, 0))\n",
    "    \n",
    "    # Resize the padded image while maintaining aspect ratio\n",
    "    padded_img.thumbnail(target_size, Image.ANTIALIAS)\n",
    "    \n",
    "    # Create a new blank image with target size\n",
    "    new_img = Image.new(\"RGBA\", target_size, (0, 0, 0, 0))\n",
    "    \n",
    "    # Paste the resized image onto the center of the new blank image\n",
    "    paste_position = ((target_size[0] - padded_img.size[0]) // 2, \n",
    "                      (target_size[1] - padded_img.size[1]) // 2)\n",
    "    new_img.paste(padded_img, paste_position)\n",
    "    \n",
    "    # Save the processed image\n",
    "    base_name = os.path.basename(input_path)\n",
    "    processed_output_path = os.path.join(output_folder, f\"Processed_{base_name}\")\n",
    "    new_img.save(processed_output_path)\n",
    "    \n",
    "    if augment:\n",
    "        # Perform image augmentation by rotating the image at 45-degree intervals\n",
    "        for angle in [45, 90, 135, 180, 225, 270, 315]:\n",
    "            rotated_img = new_img.rotate(angle)\n",
    "            rotated_output_path = os.path.join(output_folder, f\"P{angle}-{base_name}\")\n",
    "            rotated_img.save(rotated_output_path)\n",
    "\n",
    "\n",
    "# Example usage\n",
    "output_folder = \"images/output\"  # Replace with your directory\n",
    "input_folder = \"images\"  # Replace with your directory\n",
    "\n",
    "# Automatically get all PNG files in the directory\n",
    "for input_path in glob.glob(f\"{input_folder}/*.png\"):\n",
    "    process_image_with_padding(input_path, output_folder)\n"
   ]
  },
  {
   "cell_type": "code",
   "execution_count": null,
   "id": "8e1a340a-a643-4d95-b109-d10461f8637b",
   "metadata": {},
   "outputs": [],
   "source": []
  }
 ],
 "metadata": {
  "kernelspec": {
   "display_name": "Python 3 (ipykernel)",
   "language": "python",
   "name": "python3"
  },
  "language_info": {
   "codemirror_mode": {
    "name": "ipython",
    "version": 3
   },
   "file_extension": ".py",
   "mimetype": "text/x-python",
   "name": "python",
   "nbconvert_exporter": "python",
   "pygments_lexer": "ipython3",
   "version": "3.7.16"
  }
 },
 "nbformat": 4,
 "nbformat_minor": 5
}
